{
 "cells": [
  {
   "cell_type": "markdown",
   "id": "31129362",
   "metadata": {},
   "source": [
    "## 1. Model building"
   ]
  },
  {
   "cell_type": "code",
   "execution_count": 1,
   "id": "d6fd9615",
   "metadata": {},
   "outputs": [
    {
     "name": "stdout",
     "output_type": "stream",
     "text": [
      "Rmsle value :  0.17\n"
     ]
    }
   ],
   "source": [
    "import pandas as pd\n",
    "import sys\n",
    "\n",
    "# Add the root project folder to the Python path\n",
    "sys.path.append(r'C:\\Users\\puthu\\siva\\EPITA\\S2\\Data_Science_in_Production\\dsp-sivaprasad-puthumadathil-rameshan-nair')\n",
    "\n",
    "from house_prices.train import build_model\n",
    "\n",
    "training_data_df = pd.read_csv('../data/house-prices-advanced-regression-techniques/train.csv')\n",
    "\n",
    "model_performance_dict = build_model(training_data_df)\n",
    "print(\"Rmsle value : \", model_performance_dict[\"rmse\"]) "
   ]
  },
  {
   "cell_type": "markdown",
   "id": "f7602d0c",
   "metadata": {},
   "source": [
    "## 2. Model inference"
   ]
  },
  {
   "cell_type": "code",
   "execution_count": 2,
   "id": "a1358f0d",
   "metadata": {},
   "outputs": [
    {
     "name": "stdout",
     "output_type": "stream",
     "text": [
      "The first 10 predicted SalePrice values :\n",
      " [139563.6  150951.5  166170.75 190456.82 216393.8  182293.82 171760.72\n",
      " 182638.85 183009.3  118029.  ]\n"
     ]
    }
   ],
   "source": [
    "import pandas as pd\n",
    "from house_prices.inference import make_predictions\n",
    "\n",
    "user_data_df = pd.read_csv('../data/house-prices-advanced-regression-techniques/test.csv')\n",
    "predictions = make_predictions(user_data_df)\n",
    "predictions"
   ]
  },
  {
   "cell_type": "code",
   "execution_count": null,
   "id": "c3ca06b6",
   "metadata": {},
   "outputs": [],
   "source": []
  }
 ],
 "metadata": {
  "kernelspec": {
   "display_name": "Python 3 (ipykernel)",
   "language": "python",
   "name": "python3"
  },
  "language_info": {
   "codemirror_mode": {
    "name": "ipython",
    "version": 3
   },
   "file_extension": ".py",
   "mimetype": "text/x-python",
   "name": "python",
   "nbconvert_exporter": "python",
   "pygments_lexer": "ipython3",
   "version": "3.10.9"
  }
 },
 "nbformat": 4,
 "nbformat_minor": 5
}
